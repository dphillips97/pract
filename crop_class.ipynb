{
 "cells": [
  {
   "cell_type": "code",
   "execution_count": 8,
   "metadata": {},
   "outputs": [
    {
     "name": "stdout",
     "output_type": "stream",
     "text": [
      "{'light need': 4, 'water need': 3}\n",
      "{'type': 'Generic', 'status': 'Seed', 'growth': 0, 'days growing': 0}\n",
      "{'type': 'Generic', 'status': 'Seedling', 'growth': 1, 'days growing': 1}\n"
     ]
    }
   ],
   "source": [
    "class Crop:\n",
    "    '''A generic food crop'''\n",
    "    #constructor\n",
    "    def __init__(self, growth_rate, light_need, water_need):\n",
    "        #set all initial attributes with an initial value\n",
    "        \n",
    "        self._growth = 0\n",
    "        self._days_growing = 0\n",
    "        self._growth_rate = growth_rate\n",
    "        self._light_need = light_need\n",
    "        self._water_need = water_need\n",
    "        self._status = \"Seed\"\n",
    "        self._type = \"Generic\"\n",
    "        \n",
    "        #the above attributes are private, should not be\n",
    "        #accessed outside the class\n",
    "    def needs(self):\n",
    "        #return a dict containing light & water nees\n",
    "        return {'light need': self._light_need, 'water need': self._water_need}\n",
    "    \n",
    "    def report(self):\n",
    "        return {'type':self._type, 'status':self._status, 'growth':self._growth, 'days growing':self._days_growing}\n",
    "    \n",
    "    def _update_status(self):\n",
    "        if self._growth > 15:\n",
    "            self._status = \"Old\"\n",
    "        elif self._growth > 10:\n",
    "            self._status = \"Mature\"\n",
    "        elif self._growth > 5:\n",
    "            self._status = \"Young\"\n",
    "        elif self._growth > 0:\n",
    "            self._status = \"Seedling\"\n",
    "        elif self._growth == 0:\n",
    "            self._status = \"Seed\"\n",
    "        \n",
    "    def grow(self, light, water):\n",
    "        if light >= self._light_need and water >= self._water_need:\n",
    "            self._growth += self._growth_rate\n",
    "        # increment days growing\n",
    "        self._days_growing += 1\n",
    "        # update status of crop\n",
    "        self._update_status()\n",
    "    \n",
    "def main():\n",
    "    #instantiate class\n",
    "    new_crop = Crop(1,4,3)\n",
    "    # test to see if it works\n",
    "    print(new_crop.needs())\n",
    "    print(new_crop.report())\n",
    "    new_crop.grow(4,4)\n",
    "    print(new_crop.report())\n",
    "    \n",
    "if __name__ == \"__main__\":\n",
    "    main()"
   ]
  },
  {
   "cell_type": "code",
   "execution_count": null,
   "metadata": {},
   "outputs": [],
   "source": []
  }
 ],
 "metadata": {
  "kernelspec": {
   "display_name": "Python 3",
   "language": "python",
   "name": "python3"
  },
  "language_info": {
   "codemirror_mode": {
    "name": "ipython",
    "version": 3
   },
   "file_extension": ".py",
   "mimetype": "text/x-python",
   "name": "python",
   "nbconvert_exporter": "python",
   "pygments_lexer": "ipython3",
   "version": "3.7.3"
  }
 },
 "nbformat": 4,
 "nbformat_minor": 2
}
