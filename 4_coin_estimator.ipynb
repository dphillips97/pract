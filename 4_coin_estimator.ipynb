{
 "cells": [
  {
   "cell_type": "code",
   "execution_count": 51,
   "metadata": {},
   "outputs": [],
   "source": [
    "# set up lookup dict\n",
    "D = {\n",
    "    \"penny\": 2.5,\n",
    "    \"nickel\": 2.268,\n",
    "    \"dime\": 5,\n",
    "    \"quarter\": 5.67,\n",
    "    \"half dollar\": 11.34,\n",
    "    \"silver dollar\": 8.1\n",
    "}"
   ]
  },
  {
   "cell_type": "code",
   "execution_count": 52,
   "metadata": {},
   "outputs": [],
   "source": [
    "# set up dict to store user's values\n",
    "d_in = {\n",
    "    \"penny\": None,\n",
    "    \"nickel\": None,\n",
    "    \"dime\": None,\n",
    "    \"quarter\": None,\n",
    "    \"half dollar\": None,\n",
    "    \"silver dollar\": None\n",
    "}"
   ]
  },
  {
   "cell_type": "code",
   "execution_count": 57,
   "metadata": {},
   "outputs": [],
   "source": [
    "# make copy for future use\n",
    "d_out = {\n",
    "    \"penny\": None,\n",
    "    \"nickel\": None,\n",
    "    \"dime\": None,\n",
    "    \"quarter\": None,\n",
    "    \"half dollar\": None,\n",
    "    \"silver dollar\": None\n",
    "}"
   ]
  },
  {
   "cell_type": "code",
   "execution_count": 58,
   "metadata": {},
   "outputs": [
    {
     "name": "stdout",
     "output_type": "stream",
     "text": [
      "Please enter weight of: penny 25\n",
      "Please enter weight of: nickel 22.68\n",
      "Please enter weight of: dime 50\n",
      "Please enter weight of: quarter 56.7\n",
      "Please enter weight of: half dollar 113.4\n",
      "Please enter weight of: silver dollar 81\n"
     ]
    }
   ],
   "source": [
    "# update user's dict with input weight of coins\n",
    "for k in d_in.keys():\n",
    "    val = float(input(\"Please enter weight of: %s \" %k))\n",
    "    d_in[k] = val"
   ]
  },
  {
   "cell_type": "code",
   "execution_count": 59,
   "metadata": {},
   "outputs": [],
   "source": [
    "for val in d_out.keys():\n",
    "    count = d_in[k]/(D[k])\n",
    "    d_out[k] = count"
   ]
  },
  {
   "cell_type": "code",
   "execution_count": 60,
   "metadata": {
    "scrolled": true
   },
   "outputs": [
    {
     "data": {
      "text/plain": [
       "{'penny': None,\n",
       " 'nickel': None,\n",
       " 'dime': None,\n",
       " 'quarter': None,\n",
       " 'half dollar': None,\n",
       " 'silver dollar': 10.0}"
      ]
     },
     "execution_count": 60,
     "metadata": {},
     "output_type": "execute_result"
    }
   ],
   "source": [
    "d_out"
   ]
  },
  {
   "cell_type": "code",
   "execution_count": 61,
   "metadata": {},
   "outputs": [
    {
     "ename": "TypeError",
     "evalue": "%i format: a number is required, not NoneType",
     "output_type": "error",
     "traceback": [
      "\u001b[1;31m---------------------------------------------------------------------------\u001b[0m",
      "\u001b[1;31mTypeError\u001b[0m                                 Traceback (most recent call last)",
      "\u001b[1;32m<ipython-input-61-399c2aec921f>\u001b[0m in \u001b[0;36m<module>\u001b[1;34m\u001b[0m\n\u001b[0;32m      1\u001b[0m \u001b[1;32mfor\u001b[0m \u001b[0mk\u001b[0m\u001b[1;33m,\u001b[0m \u001b[0mv\u001b[0m \u001b[1;32min\u001b[0m \u001b[0md_out\u001b[0m\u001b[1;33m.\u001b[0m\u001b[0mitems\u001b[0m\u001b[1;33m(\u001b[0m\u001b[1;33m)\u001b[0m\u001b[1;33m:\u001b[0m\u001b[1;33m\u001b[0m\u001b[1;33m\u001b[0m\u001b[0m\n\u001b[1;32m----> 2\u001b[1;33m     \u001b[0mprint\u001b[0m\u001b[1;33m(\u001b[0m\u001b[1;34m\"%s: %i\"\u001b[0m \u001b[1;33m%\u001b[0m\u001b[1;33m(\u001b[0m\u001b[0mk\u001b[0m\u001b[1;33m,\u001b[0m \u001b[0mv\u001b[0m\u001b[1;33m)\u001b[0m\u001b[1;33m)\u001b[0m\u001b[1;33m\u001b[0m\u001b[1;33m\u001b[0m\u001b[0m\n\u001b[0m",
      "\u001b[1;31mTypeError\u001b[0m: %i format: a number is required, not NoneType"
     ]
    }
   ],
   "source": [
    "for k, v in d_out.items():\n",
    "    print(\"%s: %i\" %(k, v))"
   ]
  },
  {
   "cell_type": "code",
   "execution_count": null,
   "metadata": {},
   "outputs": [],
   "source": []
  }
 ],
 "metadata": {
  "kernelspec": {
   "display_name": "Python 3",
   "language": "python",
   "name": "python3"
  },
  "language_info": {
   "codemirror_mode": {
    "name": "ipython",
    "version": 3
   },
   "file_extension": ".py",
   "mimetype": "text/x-python",
   "name": "python",
   "nbconvert_exporter": "python",
   "pygments_lexer": "ipython3",
   "version": "3.7.3"
  }
 },
 "nbformat": 4,
 "nbformat_minor": 2
}
