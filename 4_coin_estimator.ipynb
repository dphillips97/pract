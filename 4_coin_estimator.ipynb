{
 "cells": [
  {
   "cell_type": "code",
   "execution_count": 35,
   "metadata": {},
   "outputs": [],
   "source": [
    "# set up lookup dict containing weights\n",
    "D = {\n",
    "    \"penny\": 2.5,\n",
    "    \"nickel\": 2.268,\n",
    "    \"dime\": 5,\n",
    "    \"quarter\": 5.67,\n",
    "    \"half dollar\": 11.34,\n",
    "    \"silver dollar\": 8.1\n",
    "}"
   ]
  },
  {
   "cell_type": "code",
   "execution_count": 36,
   "metadata": {},
   "outputs": [],
   "source": [
    "# set up dict holding coin values\n",
    "d_values = {'penny': 0.01,\n",
    " 'nickel': 0.05,\n",
    " 'dime': 0.1,\n",
    " 'quarter': 0.25,\n",
    " 'half dollar': 0.5,\n",
    " 'silver dollar': 1}"
   ]
  },
  {
   "cell_type": "code",
   "execution_count": 37,
   "metadata": {},
   "outputs": [],
   "source": [
    "# set up dict to store user's values\n",
    "d_in = {\n",
    "    \"penny\": 0,\n",
    "    \"nickel\": 0,\n",
    "    \"dime\": 0,\n",
    "    \"quarter\": 0,\n",
    "    \"half dollar\": 0,\n",
    "    \"silver dollar\": 0\n",
    "}"
   ]
  },
  {
   "cell_type": "code",
   "execution_count": 38,
   "metadata": {},
   "outputs": [],
   "source": [
    "# and create copy for holding calculated values\n",
    "d_out = d_in.copy()"
   ]
  },
  {
   "cell_type": "code",
   "execution_count": 39,
   "metadata": {},
   "outputs": [
    {
     "name": "stdout",
     "output_type": "stream",
     "text": [
      "Please enter weight of penny in grams: 150\n",
      "Please enter weight of nickel in grams: 20\n",
      "Please enter weight of dime in grams: 200\n",
      "Please enter weight of quarter in grams: 550\n",
      "Please enter weight of half dollar in grams: 1200\n",
      "Please enter weight of silver dollar in grams: 800\n"
     ]
    }
   ],
   "source": [
    "# update user's dict with input weight of coins\n",
    "for k in d_in.keys():\n",
    "    coin_wt = float(input(\"Please enter weight of %s in grams: \" %k))\n",
    "    d_in[k] = coin_wt"
   ]
  },
  {
   "cell_type": "code",
   "execution_count": 40,
   "metadata": {},
   "outputs": [],
   "source": [
    "for j in d_out.keys():\n",
    "    count = round(d_in[j]/(D[j]))\n",
    "    d_out[j] = count"
   ]
  },
  {
   "cell_type": "code",
   "execution_count": 44,
   "metadata": {
    "scrolled": true
   },
   "outputs": [
    {
     "data": {
      "text/plain": [
       "{'penny': 60,\n",
       " 'nickel': 9,\n",
       " 'dime': 40,\n",
       " 'quarter': 97,\n",
       " 'half dollar': 106,\n",
       " 'silver dollar': 99}"
      ]
     },
     "execution_count": 44,
     "metadata": {},
     "output_type": "execute_result"
    }
   ],
   "source": [
    "d_out"
   ]
  },
  {
   "cell_type": "code",
   "execution_count": 41,
   "metadata": {},
   "outputs": [],
   "source": [
    "d_values = {'penny': 0.01,\n",
    " 'nickel': 0.05,\n",
    " 'dime': 0.1,\n",
    " 'quarter': 0.25,\n",
    " 'half dollar': 0.5,\n",
    " 'silver dollar': 1}"
   ]
  },
  {
   "cell_type": "code",
   "execution_count": 42,
   "metadata": {},
   "outputs": [],
   "source": [
    "total = 0\n",
    "for i in d_out:\n",
    "    value = d_out[i] * d_values[i]\n",
    "    total += value\n"
   ]
  },
  {
   "cell_type": "code",
   "execution_count": 43,
   "metadata": {
    "scrolled": false
   },
   "outputs": [
    {
     "name": "stdout",
     "output_type": "stream",
     "text": [
      "60: penny by weight\n",
      "9: nickel by weight\n",
      "40: dime by weight\n",
      "97: quarter by weight\n",
      "106: half dollar by weight\n",
      "99: silver dollar by weight\n",
      "Total value of coins is 181.3\n"
     ]
    }
   ],
   "source": [
    "for k, v in d_out.items():\n",
    "    print(\"{}: {} by weight\".format(v, k))\n",
    "\n",
    "print(\"Total value of coins is {}\".format(total))"
   ]
  },
  {
   "cell_type": "code",
   "execution_count": null,
   "metadata": {},
   "outputs": [],
   "source": []
  }
 ],
 "metadata": {
  "kernelspec": {
   "display_name": "Python 3",
   "language": "python",
   "name": "python3"
  },
  "language_info": {
   "codemirror_mode": {
    "name": "ipython",
    "version": 3
   },
   "file_extension": ".py",
   "mimetype": "text/x-python",
   "name": "python",
   "nbconvert_exporter": "python",
   "pygments_lexer": "ipython3",
   "version": "3.7.3"
  }
 },
 "nbformat": 4,
 "nbformat_minor": 2
}
