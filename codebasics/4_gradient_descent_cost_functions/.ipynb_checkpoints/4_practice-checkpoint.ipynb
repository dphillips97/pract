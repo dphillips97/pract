{
 "cells": [
  {
   "cell_type": "code",
   "execution_count": null,
   "metadata": {
    "ExecuteTime": {
     "end_time": "2020-08-10T17:50:06.401050Z",
     "start_time": "2020-08-10T17:50:06.396141Z"
    }
   },
   "outputs": [],
   "source": [
    "import math"
   ]
  },
  {
   "cell_type": "code",
   "execution_count": null,
   "metadata": {
    "ExecuteTime": {
     "end_time": "2020-08-10T21:26:38.456352Z",
     "start_time": "2020-08-10T21:26:38.435408Z"
    }
   },
   "outputs": [],
   "source": [
    "def gradient_descent(x_list,y_list):\n",
    "    \n",
    "    # Initialize weights\n",
    "    m_curr = 0\n",
    "    b_curr = 0\n",
    "    \n",
    "    # Set learning rate\n",
    "    learning_rate = 0.01\n",
    "    \n",
    "    # Set iterations\n",
    "    iterations = 100\n",
    "    \n",
    "    # For each iteration...\n",
    "    for i in range(iterations):\n",
    "        \n",
    "        # Set running Loss = 0 for this iteration\n",
    "        running_sse = 0\n",
    "        \n",
    "        # Set running SSE for all intercepts = 0 for this iteration\n",
    "        running_sse_b = 0\n",
    "        \n",
    "        # Set running SSE for all slopes = 0 for this iteration\n",
    "        running_sse_m = 0\n",
    "        \n",
    "        \n",
    "        # For each value in the list of x values...\n",
    "        for j in range(len(x_list)):\n",
    "            \n",
    "            # Y_predicted = intercept + slope * the x value\n",
    "            y_predicted = b_curr + m_curr * x_list[j]\n",
    "            \n",
    "            # Find SSE for this value of y\n",
    "            sse_for_this_y = 0.5 * y_list[j] - y_predicted\n",
    "            \n",
    "            # Update running total SSE with\n",
    "            sse += sse_for_this_y\n",
    "            \n",
    "            # Get dSSE/db\n",
    "            d_b = - (y_list[x] - y_predicted)\n",
    "            \n",
    "            sse_b += d_b\n",
    "            \n",
    "            # Get dSSE/dm\n",
    "            d_m = -(y_list[x] - y_predicted) * x_list[x]\n",
    "            \n",
    "            sse_m += d_m\n",
    "            \n",
    "        b_curr = b_curr - learning_rate * sse_b\n",
    "        \n",
    "        m_curr = m_curr - learning_rate * sse_m\n",
    "            \n",
    "        print(b_curr, m_curr) \n",
    "        \n",
    "x = [0, .22, .24, .33, .37, .44, .44, .57, .93, 1]\n",
    "y = [0, .22, .58, .2, .55, .39, .54, .53, 1, .61]\n",
    "    \n",
    "gradient_descent(x,y)"
   ]
  },
  {
   "cell_type": "code",
   "execution_count": null,
   "metadata": {},
   "outputs": [],
   "source": []
  }
 ],
 "metadata": {
  "kernelspec": {
   "display_name": "Python 3",
   "language": "python",
   "name": "python3"
  },
  "language_info": {
   "codemirror_mode": {
    "name": "ipython",
    "version": 3
   },
   "file_extension": ".py",
   "mimetype": "text/x-python",
   "name": "python",
   "nbconvert_exporter": "python",
   "pygments_lexer": "ipython3",
   "version": "3.7.8"
  },
  "varInspector": {
   "cols": {
    "lenName": 16,
    "lenType": 16,
    "lenVar": 40
   },
   "kernels_config": {
    "python": {
     "delete_cmd_postfix": "",
     "delete_cmd_prefix": "del ",
     "library": "var_list.py",
     "varRefreshCmd": "print(var_dic_list())"
    },
    "r": {
     "delete_cmd_postfix": ") ",
     "delete_cmd_prefix": "rm(",
     "library": "var_list.r",
     "varRefreshCmd": "cat(var_dic_list()) "
    }
   },
   "types_to_exclude": [
    "module",
    "function",
    "builtin_function_or_method",
    "instance",
    "_Feature"
   ],
   "window_display": false
  }
 },
 "nbformat": 4,
 "nbformat_minor": 4
}
