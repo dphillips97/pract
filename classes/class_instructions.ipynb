{
 "cells": [
  {
   "cell_type": "code",
   "execution_count": 18,
   "metadata": {},
   "outputs": [],
   "source": [
    "import math"
   ]
  },
  {
   "cell_type": "code",
   "execution_count": null,
   "metadata": {},
   "outputs": [],
   "source": [
    "###Example class###\n",
    "\n",
    "# Pet inherits from 'object'\n",
    "class Pet(object):\n",
    "    \n",
    "    # 'self' is instance of class\n",
    "    # 'self' has different values than some other possible instance\n",
    "    # what is unique about this specific instance?\n",
    "    def __init__(self, name, species):\n",
    "        self.name = name\n",
    "        self.species = species\n",
    "        \n",
    "        # Get instance's own name\n",
    "        def getName(self):\n",
    "            return self.name\n",
    "        \n",
    "        def getSpecies(self):\n",
    "            return self.species    "
   ]
  },
  {
   "cell_type": "code",
   "execution_count": null,
   "metadata": {},
   "outputs": [],
   "source": [
    "class Plant(object):\n",
    "    instances = []\n",
    "    def __init__(self, id_num, ptype, health):\n",
    "        self.__class__.instances.append(self)\n",
    "        self.id_num = id_num\n",
    "        self.ptype = ptype\n",
    "        self.health = health\n",
    "    \n",
    "    # method shared among all objects\n",
    "    @classmethod\n",
    "    def printInstances(cls):\n",
    "        for instance in cls.instances:\n",
    "            print(instance.id_num, instance.ptype)\n",
    "\n",
    "    def getHealth(self):\n",
    "        return self.health\n",
    "\n",
    "    def lookupId(self):\n",
    "        return self.id_num\n",
    "\n",
    "    def getPtype(self):\n",
    "        return self.ptype\n",
    "\n",
    "    def summary(self):\n",
    "        return f\"Plant {self.id_num}: {self.ptype} is in {self.health} health\"\n",
    "\n",
    "\n",
    "snake = Plant(1, \"snake plant\", \"good\")\n",
    "\n",
    "succulent = Plant(2, \"some succulent\", \"poor\")\n",
    "\n",
    "Plant.printInstances()"
   ]
  },
  {
   "cell_type": "code",
   "execution_count": 1,
   "metadata": {},
   "outputs": [],
   "source": [
    "class MyClass(object):\n",
    "    \n",
    "    # Instance method\n",
    "    # Freely access attributes and other methods on same object\n",
    "    # Can modify object's and class' state\n",
    "    def method(self):\n",
    "        return \"Instance method called\", self\n",
    "        \n",
    "    # Points to class and not object instance\n",
    "    # Can't modify object instance state\n",
    "    @classmethod\n",
    "    def classmethod(cls):\n",
    "        return \"Class method called\", cls\n",
    "    \n",
    "    # Restricted in what data they can access\n",
    "    @staticmethod\n",
    "    def staticmethod():\n",
    "        return \"Static method called\""
   ]
  },
  {
   "cell_type": "code",
   "execution_count": 22,
   "metadata": {},
   "outputs": [],
   "source": [
    "class Pizza(object):\n",
    "    def __init__(self, radius, ingredients):\n",
    "        self.radius = radius\n",
    "        self.ingredients = ingredients\n",
    "        \n",
    "    def __repr__(self):\n",
    "        return f'Pizza({self.radius!r}, {self.ingredients!r})'\n",
    "        \n",
    "    def area(self):\n",
    "        return self.circle_area(self.radius)\n",
    "    \n",
    "    @staticmethod\n",
    "    def circle_area(r):\n",
    "        return r ** 2 * math.pi\n",
    "    \n",
    "    @classmethod\n",
    "    def margherita(cls):\n",
    "        return cls(['mozzarella', 'tomatoes'])\n",
    "    \n",
    "    @classmethod\n",
    "    def prosciutto(cls):\n",
    "        return cls(['mozzarella', 'tomatoes', 'ham'])"
   ]
  },
  {
   "cell_type": "code",
   "execution_count": 23,
   "metadata": {},
   "outputs": [
    {
     "data": {
      "text/plain": [
       "Pizza(4, ['mozzarella', 'tomatoes'])"
      ]
     },
     "execution_count": 23,
     "metadata": {},
     "output_type": "execute_result"
    }
   ],
   "source": [
    "p = Pizza(4, ['mozzarella', 'tomatoes'])\n",
    "p"
   ]
  },
  {
   "cell_type": "code",
   "execution_count": 27,
   "metadata": {},
   "outputs": [
    {
     "data": {
      "text/plain": [
       "True"
      ]
     },
     "execution_count": 27,
     "metadata": {},
     "output_type": "execute_result"
    }
   ],
   "source": [
    "Pizza.circle_area(4) == p.area()"
   ]
  },
  {
   "cell_type": "code",
   "execution_count": null,
   "metadata": {},
   "outputs": [],
   "source": []
  }
 ],
 "metadata": {
  "kernelspec": {
   "display_name": "Python 3",
   "language": "python",
   "name": "python3"
  },
  "language_info": {
   "codemirror_mode": {
    "name": "ipython",
    "version": 3
   },
   "file_extension": ".py",
   "mimetype": "text/x-python",
   "name": "python",
   "nbconvert_exporter": "python",
   "pygments_lexer": "ipython3",
   "version": "3.7.6"
  },
  "varInspector": {
   "cols": {
    "lenName": 16,
    "lenType": 16,
    "lenVar": 40
   },
   "kernels_config": {
    "python": {
     "delete_cmd_postfix": "",
     "delete_cmd_prefix": "del ",
     "library": "var_list.py",
     "varRefreshCmd": "print(var_dic_list())"
    },
    "r": {
     "delete_cmd_postfix": ") ",
     "delete_cmd_prefix": "rm(",
     "library": "var_list.r",
     "varRefreshCmd": "cat(var_dic_list()) "
    }
   },
   "types_to_exclude": [
    "module",
    "function",
    "builtin_function_or_method",
    "instance",
    "_Feature"
   ],
   "window_display": false
  }
 },
 "nbformat": 4,
 "nbformat_minor": 4
}
