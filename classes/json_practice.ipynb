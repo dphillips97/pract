{
 "cells": [
  {
   "cell_type": "code",
   "execution_count": 1,
   "metadata": {},
   "outputs": [],
   "source": [
    "import os\n",
    "import json\n",
    "import requests as rq"
   ]
  },
  {
   "cell_type": "code",
   "execution_count": 2,
   "metadata": {
    "scrolled": false
   },
   "outputs": [],
   "source": [
    "fpath = os.path.join(\"C:\", os.sep, \"Users\", \"dphil\",\n",
    "                     \"Desktop\", \"practice\", \"practice_files\")\n",
    "\n",
    "os.chdir(fpath)"
   ]
  },
  {
   "cell_type": "code",
   "execution_count": 4,
   "metadata": {},
   "outputs": [
    {
     "name": "stdout",
     "output_type": "stream",
     "text": [
      "<class 'dict'> {'name': 'John', 'age': 30, 'city': 'New York'}\n"
     ]
    }
   ],
   "source": [
    "# JSON string --> dict\n",
    "x =  '{ \"name\":\"John\", \"age\":30, \"city\":\"New York\"}'\n",
    "y = json.loads(x)\n",
    "print(type(y), y)"
   ]
  },
  {
   "cell_type": "code",
   "execution_count": 10,
   "metadata": {},
   "outputs": [
    {
     "name": "stdout",
     "output_type": "stream",
     "text": [
      "<class 'str'> {\n",
      "    \"age\" = 30. \n",
      "    \"city\" = \"New York\". \n",
      "    \"name\" = \"John\"\n",
      "}\n"
     ]
    }
   ],
   "source": [
    "# python dict (object) --> JSON string\n",
    "\n",
    "x = {\n",
    "  \"name\": \"John\",\n",
    "  \"age\": 30,\n",
    "  \"city\": \"New York\"\n",
    "}\n",
    "\n",
    "y = json.dumps(x, indent=4, separators=(\". \", \" = \"), sort_keys=True)\n",
    "\n",
    "print(type(y), y)"
   ]
  },
  {
   "cell_type": "code",
   "execution_count": 17,
   "metadata": {},
   "outputs": [
    {
     "name": "stdout",
     "output_type": "stream",
     "text": [
      "{\"key1\": \"value1\", \"key2\": \"value2\"}\n"
     ]
    }
   ],
   "source": [
    "# Convert following data into JSON format\n",
    "data = {\"key1\" : \"value1\", \"key2\" : \"value2\"}\n",
    "\n",
    "x = json.dumps(data)\n",
    "\n",
    "print(x)"
   ]
  },
  {
   "cell_type": "code",
   "execution_count": 20,
   "metadata": {},
   "outputs": [
    {
     "name": "stdout",
     "output_type": "stream",
     "text": [
      "value2\n"
     ]
    }
   ],
   "source": [
    "# Access value of key2 from following JSON\n",
    "\n",
    "sampleJson = \"\"\"{\"key1\": \"value1\", \"key2\": \"value2\"}\"\"\"\n",
    "\n",
    "x = json.loads(sampleJson)\n",
    "\n",
    "print(x['key2'])"
   ]
  },
  {
   "cell_type": "code",
   "execution_count": 25,
   "metadata": {},
   "outputs": [
    {
     "name": "stdout",
     "output_type": "stream",
     "text": [
      "{\n",
      "  \"key1\" = \"value1\", \n",
      "  \"key2\" = \"value2\", \n",
      "  \"key3\" = \"value3\"\n",
      "}\n"
     ]
    }
   ],
   "source": [
    "# PrettyPrint following JSON data with indent level 2 \n",
    "# and key-value separators should be (\",\", \" = \")\n",
    "\n",
    "sampleJson = {\"key1\": \"value1\", \"key2\": \"value2\", \"key3\": \"value3\"}\n",
    "\n",
    "x = json.dumps(sampleJson, indent=2, separators=(\", \", \" = \"))\n",
    "\n",
    "print(x)"
   ]
  },
  {
   "cell_type": "code",
   "execution_count": 30,
   "metadata": {},
   "outputs": [],
   "source": [
    "# Sort following JSON data alphabetical order of keys\n",
    "# and write to file\n",
    "\n",
    "sampleJson = {\"id\" : 1, \"name\" : \"value2\", \"age\" : 29}\n",
    "\n",
    "with open(\"dump1.json\", \"w\") as out_file:\n",
    "    json.dump(sampleJson, out_file, sort_keys=True)"
   ]
  },
  {
   "cell_type": "code",
   "execution_count": 35,
   "metadata": {},
   "outputs": [
    {
     "name": "stdout",
     "output_type": "stream",
     "text": [
      "7000\n"
     ]
    }
   ],
   "source": [
    "#Access the nested key ‘salary’ from the following JSON\n",
    "\n",
    "sampleJson = \"\"\"{ \n",
    "   \"company\":{ \n",
    "      \"employee\":{ \n",
    "         \"name\":\"emma\",\n",
    "         \"payble\":{ \n",
    "            \"salary\":7000,\n",
    "            \"bonus\":800\n",
    "         }\n",
    "      }\n",
    "   }\n",
    "}\"\"\"\n",
    "\n",
    "x = json.loads(sampleJson)\n",
    "print(x['company']['employee']['payble']['salary'])"
   ]
  },
  {
   "cell_type": "code",
   "execution_count": 41,
   "metadata": {},
   "outputs": [
    {
     "name": "stdout",
     "output_type": "stream",
     "text": [
      "{\n",
      "    \"name\": \"Toyota RAV4\",\n",
      "    \"engine\": \"2.5L\",\n",
      "    \"price\": 32000\n",
      "}\n"
     ]
    }
   ],
   "source": [
    "# Convert the following Vehicle Object into JSON\n",
    "\n",
    "class Vehicle(object):\n",
    "    def __init__(self, name, engine, price):\n",
    "        self.name = name\n",
    "        self.engine = engine\n",
    "        self.price = price\n",
    "        \n",
    "vehicle = Vehicle(\"Toyota RAV4\", \"2.5L\", 32000)\n",
    "\n",
    "x = json.dumps(vehicle.__dict__, indent=4)\n",
    "\n",
    "print(x)"
   ]
  },
  {
   "cell_type": "code",
   "execution_count": 71,
   "metadata": {},
   "outputs": [
    {
     "data": {
      "text/plain": [
       "['name1', 'name2']"
      ]
     },
     "execution_count": 71,
     "metadata": {},
     "output_type": "execute_result"
    }
   ],
   "source": [
    "# Parse the following JSON\n",
    "# to get all the values of a key\n",
    "# \"name\" within an array\n",
    "\n",
    "x = \"\"\"[\n",
    "    {\n",
    "        \"id\": 1,\n",
    "        \"name\": \"name1\",\n",
    "        \"color\": [\n",
    "            \"red\",\n",
    "            \"green\"\n",
    "        ]\n",
    "    },\n",
    "    {\n",
    "        \"id\": 2,\n",
    "        \"name\": \"name2\",\n",
    "        \"color\": [\n",
    "            \"pink\",\n",
    "            \"yellow\"\n",
    "        ]\n",
    "    }\n",
    "]\"\"\"\n",
    "\n",
    "data = json.loads(x)\n",
    "\n",
    "data_list = []\n",
    "\n",
    "for i in range(len(data)):\n",
    "    data_list.append(data[i]['name'])\n",
    "    \n",
    "data_list"
   ]
  },
  {
   "cell_type": "code",
   "execution_count": null,
   "metadata": {},
   "outputs": [],
   "source": []
  }
 ],
 "metadata": {
  "kernelspec": {
   "display_name": "Python 3",
   "language": "python",
   "name": "python3"
  },
  "language_info": {
   "codemirror_mode": {
    "name": "ipython",
    "version": 3
   },
   "file_extension": ".py",
   "mimetype": "text/x-python",
   "name": "python",
   "nbconvert_exporter": "python",
   "pygments_lexer": "ipython3",
   "version": "3.7.6"
  },
  "varInspector": {
   "cols": {
    "lenName": 16,
    "lenType": 16,
    "lenVar": 40
   },
   "kernels_config": {
    "python": {
     "delete_cmd_postfix": "",
     "delete_cmd_prefix": "del ",
     "library": "var_list.py",
     "varRefreshCmd": "print(var_dic_list())"
    },
    "r": {
     "delete_cmd_postfix": ") ",
     "delete_cmd_prefix": "rm(",
     "library": "var_list.r",
     "varRefreshCmd": "cat(var_dic_list()) "
    }
   },
   "types_to_exclude": [
    "module",
    "function",
    "builtin_function_or_method",
    "instance",
    "_Feature"
   ],
   "window_display": false
  }
 },
 "nbformat": 4,
 "nbformat_minor": 4
}
