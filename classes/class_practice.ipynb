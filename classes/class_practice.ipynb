{
 "cells": [
  {
   "cell_type": "code",
   "execution_count": 75,
   "metadata": {},
   "outputs": [],
   "source": [
    "import numpy as np\n",
    "from datetime import date"
   ]
  },
  {
   "cell_type": "markdown",
   "metadata": {},
   "source": [
    "**Exercises**\n",
    "\n",
    "1. Write a class to implement x^n\n",
    "2. Write a class to reverse a string word by word\n",
    "3. Write a class to determine a rectangle's area\n",
    "4. Write a class to determine a circle's area and perimeter\n",
    "5. Write temp class with 2 methods: C to F and F to C\n",
    "6. Write student class in init with name and roll number that has methods: display all info, setAge, setMarks\n",
    "7. Write a class named American which has a static method called printNationality and a subclass New Yorker\n",
    "8. Define a class Person and its 2 child classes Male and Female. All classes have a \"getGender\" method\n",
    "9. Define class that has methods getString and printString (in upper case)"
   ]
  },
  {
   "cell_type": "code",
   "execution_count": 27,
   "metadata": {},
   "outputs": [],
   "source": [
    "# 1\n",
    "class Exponent(object):\n",
    "    def __init__(self, x, n):\n",
    "        self.x = x\n",
    "        self.n = n\n",
    "\n",
    "    def power(self):\n",
    "        return self.x ** self.n\n",
    "\n",
    "e1 = Exponent(2,3)"
   ]
  },
  {
   "cell_type": "code",
   "execution_count": 40,
   "metadata": {},
   "outputs": [
    {
     "data": {
      "text/plain": [
       "['Hello', 'it', 'is', 'I']"
      ]
     },
     "execution_count": 40,
     "metadata": {},
     "output_type": "execute_result"
    }
   ],
   "source": [
    "# 2\n",
    "class Reversei(object):\n",
    "    def __init__(self, phrase):\n",
    "        self.phrase = phrase\n",
    "    \n",
    "    def reverse(self):\n",
    "        in_phrase = self.phrase.split(' ')\n",
    "        out_phrase = []\n",
    "        \n",
    "        return in_phrase\n",
    "    \n",
    "phrase_1 = Reversei(\"Hello it is I\")\n",
    "phrase_1.reverse()"
   ]
  },
  {
   "cell_type": "code",
   "execution_count": 80,
   "metadata": {},
   "outputs": [
    {
     "name": "stdout",
     "output_type": "stream",
     "text": [
      "Drew is 34 years old\n",
      "John is 35 years old\n"
     ]
    }
   ],
   "source": [
    "class Person(object):\n",
    "    def __init__(self, name, age):\n",
    "        self.name = name\n",
    "        self.age = age\n",
    "        \n",
    "    @classmethod\n",
    "    def fromBirthYear(cls, name, birth_year):\n",
    "        return cls(name, date.today().year - birth_year)\n",
    "    \n",
    "    def display(self):\n",
    "        print(f\"{self.name} is {self.age} years old\")\n",
    "        \n",
    "person = Person(\"Drew\", 34)\n",
    "person.display()\n",
    "\n",
    "person1 = Person.fromBirthYear(\"John\", 1985)\n",
    "person1.display()"
   ]
  },
  {
   "cell_type": "code",
   "execution_count": 110,
   "metadata": {},
   "outputs": [
    {
     "name": "stdout",
     "output_type": "stream",
     "text": [
      "Perimeter: 31.41592653589793 area: 78.53981633974483\n",
      "This circle has area 76.47395015565573\n",
      "None\n"
     ]
    }
   ],
   "source": [
    "class Circle(object):\n",
    "    def __init__(self, radius):\n",
    "        self.radius = radius\n",
    "    \n",
    "    def area(self):\n",
    "        return np.pi * self.radius ** 2\n",
    "    \n",
    "    def perimeter(self):\n",
    "        return np.pi * 2 * self.radius\n",
    "    \n",
    "    @classmethod\n",
    "    def areaFromPerimeter(cls, perimeter):\n",
    "        return cls(np.pi * (perimeter / (2 * np.pi)) ** 2)\n",
    "    \n",
    "    def display(self):\n",
    "        print(f\"This circle has area {self.radius}\")\n",
    "\n",
    "c1 = Circle(5)\n",
    "print(f\"Perimeter: {c1.perimeter()} area: {c1.area()}\")\n",
    "\n",
    "\n",
    "c2 = Circle.areaFromPerimeter(31)\n",
    "print(c2.display())"
   ]
  },
  {
   "cell_type": "code",
   "execution_count": 102,
   "metadata": {},
   "outputs": [],
   "source": [
    "# 6\n",
    "class Student(object):\n",
    "    def __init__(self, name, age, marks):\n",
    "        self.name = name\n",
    "        self.age = age\n",
    "        self.marks = marks\n",
    "        \n",
    "    def displayInfo(self):\n",
    "        return f\"{self.name}, {self.age}, {self.marks}\"\n",
    "    \n",
    "    def setAge(self, age):\n",
    "        self.age = age\n",
    "        return f\"Age set to {self.age}\"\n",
    "    \n",
    "    def setMarks(self, marks):\n",
    "        self.marks = marks\n",
    "        return f\"Marks set to {self.marks}\""
   ]
  },
  {
   "cell_type": "code",
   "execution_count": 2,
   "metadata": {},
   "outputs": [
    {
     "ename": "ValueError",
     "evalue": "Answers Below!",
     "output_type": "error",
     "traceback": [
      "\u001b[1;31m---------------------------------------------------------------------------\u001b[0m",
      "\u001b[1;31mValueError\u001b[0m                                Traceback (most recent call last)",
      "\u001b[1;32m<ipython-input-2-61600f3b0179>\u001b[0m in \u001b[0;36m<module>\u001b[1;34m\u001b[0m\n\u001b[1;32m----> 1\u001b[1;33m \u001b[1;32mraise\u001b[0m \u001b[0mValueError\u001b[0m\u001b[1;33m(\u001b[0m\u001b[1;34m\"Answers Below!\"\u001b[0m\u001b[1;33m)\u001b[0m\u001b[1;33m\u001b[0m\u001b[1;33m\u001b[0m\u001b[0m\n\u001b[0m",
      "\u001b[1;31mValueError\u001b[0m: Answers Below!"
     ]
    }
   ],
   "source": [
    "raise ValueError(\"Answers Below!\")"
   ]
  },
  {
   "cell_type": "code",
   "execution_count": null,
   "metadata": {},
   "outputs": [],
   "source": [
    "# Write a class to implement x^n\n",
    "\n",
    "class Power(object):\n",
    "    def __init__(self, x, n):\n",
    "        self.x = x\n",
    "        self.n = n\n",
    "        \n",
    "    def power(self):\n",
    "        return self.x ** self.n\n",
    "    \n",
    "    def returnInput(self):\n",
    "        return f\"{self.x} to the power of {self.n}\"\n",
    "    \n",
    "test_a = Power(5,2)\n",
    "\n",
    "test_a.power()"
   ]
  },
  {
   "cell_type": "code",
   "execution_count": null,
   "metadata": {},
   "outputs": [],
   "source": [
    "# Write a class to reverse a string word by word\n",
    "\n",
    "class Reversal(object):\n",
    "    \n",
    "    def __init__(self, phrase):\n",
    "        self.phrase = phrase\n",
    "        \n",
    "    def reverse(self):\n",
    "        \n",
    "        self.phrase_list = self.phrase.split()\n",
    "        \n",
    "        self.rev_phrase_list = self.phrase_list[::-1]\n",
    "        \n",
    "        self.reversed_phrase = \" \".join(self.rev_phrase_list)\n",
    "        \n",
    "        return self.reversed_phrase\n",
    "    \n",
    "test_a = Reversal(\"Here comes the rooster\")\n",
    "\n",
    "test_a.reverse()"
   ]
  },
  {
   "cell_type": "code",
   "execution_count": null,
   "metadata": {},
   "outputs": [],
   "source": [
    "# Write a class to calculate a circle's perimeter and area\n",
    "\n",
    "class Circle(object):\n",
    "    def __init__(self, radius):\n",
    "        self.radius = radius\n",
    "        \n",
    "    def getArea(self):\n",
    "        \n",
    "        return np.pi * (self.radius ** 2)\n",
    "    \n",
    "    def getCircumference(self):\n",
    "        \n",
    "        return 2 * np.pi * self.radius\n",
    "    \n",
    "circle_1 = Circle(5)\n",
    "circle_1.radius"
   ]
  },
  {
   "cell_type": "code",
   "execution_count": null,
   "metadata": {},
   "outputs": [],
   "source": [
    "# Write a class to get a rectangle's area\n",
    "\n",
    "class Rectangle(object):\n",
    "    def __init__(self, x, y):\n",
    "        self.x = x\n",
    "        self.y = y\n",
    "        \n",
    "    def getPerimeter(self):\n",
    "        return 2 * self.x + 2 * self.y\n",
    "    \n",
    "    def getArea(self):\n",
    "        return self.x * self.y\n",
    "    \n",
    "    def Describe(self):\n",
    "        return f\"This is a polygon with sides {self.x} and {self.y}\"\n",
    "    \n",
    "square = Rectangle(5,5)\n",
    "\n",
    "backyard = Rectangle(20, 35)"
   ]
  },
  {
   "cell_type": "code",
   "execution_count": null,
   "metadata": {},
   "outputs": [],
   "source": [
    "# Write temp class with 2 methods: C to F and F to C\n",
    "\n",
    "class TempConvert(object):\n",
    "    def __init__(self, temp):\n",
    "        self.temp = temp\n",
    "        \n",
    "    def convertF(self):\n",
    "        return (9/5) * self.temp + 32\n",
    "    \n",
    "    def convertC(self):\n",
    "        return (5/9) * (self.temp - 32)\n",
    "    \n",
    "calc_1 = TempConvert(100)\n",
    "calc_1.convertF()"
   ]
  },
  {
   "cell_type": "code",
   "execution_count": null,
   "metadata": {},
   "outputs": [],
   "source": [
    "# Write student class in init with name and roll number\n",
    "# methods: display all info, setAge, setMarks\n",
    "\n",
    "\n",
    "class Student(object):\n",
    "    def __init__(self, name, roll_num):\n",
    "        self.name = name\n",
    "        self.roll_num = roll_num\n",
    "     \n",
    "\n",
    "    def Display(self):\n",
    "        return f\"{self.roll_num}: {self.name}\"\n",
    "\n",
    "    def setAge(self, age):\n",
    "        self.age = age\n",
    "        return f\"{self.name} updated to {self.age} years old\"\n",
    "\n",
    "    def setMarks(self, mark):\n",
    "        self.mark = mark\n",
    "        return f\"Mark of {mark} added!\"\n",
    "\n",
    "\n",
    "drew = Student(\"Drew Phillips\", \"23972322\")\n",
    "drew.setAge(34)\n",
    "drew.age"
   ]
  },
  {
   "cell_type": "code",
   "execution_count": 30,
   "metadata": {},
   "outputs": [
    {
     "name": "stdout",
     "output_type": "stream",
     "text": [
      "farts\n",
      "FARTS\n"
     ]
    }
   ],
   "source": [
    "# Define class that has methods getString and printString (in upper case)\n",
    "\n",
    "\n",
    "class BigPrinter(object):\n",
    "    def __init__(self):\n",
    "        self.phrase = None\n",
    "\n",
    "    def getString(self):\n",
    "        self.phrase = input()\n",
    "\n",
    "    def printString(self):\n",
    "        print(self.phrase.upper())\n",
    "\n",
    "\n",
    "test = BigPrinter()\n",
    "test.getString()\n",
    "test.printString()"
   ]
  },
  {
   "cell_type": "code",
   "execution_count": null,
   "metadata": {},
   "outputs": [],
   "source": [
    "# Define a class named American \n",
    "# which has a static method called printNationality\n",
    "# and a subclass New Yorker\n",
    "\n",
    "class American(object):\n",
    "    \n",
    "    \n",
    "    @staticmethod\n",
    "    def printNationality():\n",
    "        print(\"American\")\n",
    "        \n",
    "        \n",
    "class NewYorker(American):\n",
    "    pass"
   ]
  },
  {
   "cell_type": "code",
   "execution_count": null,
   "metadata": {},
   "outputs": [],
   "source": [
    "# Define a class Person and its 2 child classes\n",
    "# Male and Female. All classes have a \"getGender\" method\n",
    "\n",
    "class Person(object):\n",
    "    \n",
    "    def getGender(self):\n",
    "        return \"unknown\"\n",
    "\n",
    "class Female(Person):\n",
    "     def getGender(self):\n",
    "        return \"Female\"\n",
    "    \n",
    "class Male(Person):\n",
    "    def getGender(self):\n",
    "        return \"Male\"\n",
    "    \n",
    "person_x = Person()\n",
    "sam = Female()\n",
    "drew = Male()"
   ]
  },
  {
   "cell_type": "code",
   "execution_count": 29,
   "metadata": {},
   "outputs": [
    {
     "data": {
      "text/plain": [
       "'CO2'"
      ]
     },
     "execution_count": 29,
     "metadata": {},
     "output_type": "execute_result"
    }
   ],
   "source": [
    "# Access class variable from instance\n",
    "class Plant(object):\n",
    "    \n",
    "    material = \"CO2\"\n",
    "    \n",
    "    def __init__(self, name):\n",
    "        \n",
    "        self.name = name\n",
    "        \n",
    "    def describe(self):\n",
    "        return f\"{self.name} plant is made of {material}\"\n",
    "    \n",
    "snake = Plant(\"Snake\")\n",
    "\n",
    "snake.material"
   ]
  },
  {
   "cell_type": "code",
   "execution_count": null,
   "metadata": {},
   "outputs": [],
   "source": []
  }
 ],
 "metadata": {
  "kernelspec": {
   "display_name": "Python 3",
   "language": "python",
   "name": "python3"
  },
  "language_info": {
   "codemirror_mode": {
    "name": "ipython",
    "version": 3
   },
   "file_extension": ".py",
   "mimetype": "text/x-python",
   "name": "python",
   "nbconvert_exporter": "python",
   "pygments_lexer": "ipython3",
   "version": "3.7.6"
  },
  "varInspector": {
   "cols": {
    "lenName": 16,
    "lenType": 16,
    "lenVar": 40
   },
   "kernels_config": {
    "python": {
     "delete_cmd_postfix": "",
     "delete_cmd_prefix": "del ",
     "library": "var_list.py",
     "varRefreshCmd": "print(var_dic_list())"
    },
    "r": {
     "delete_cmd_postfix": ") ",
     "delete_cmd_prefix": "rm(",
     "library": "var_list.r",
     "varRefreshCmd": "cat(var_dic_list()) "
    }
   },
   "types_to_exclude": [
    "module",
    "function",
    "builtin_function_or_method",
    "instance",
    "_Feature"
   ],
   "window_display": false
  }
 },
 "nbformat": 4,
 "nbformat_minor": 4
}
